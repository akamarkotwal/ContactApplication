{
  "nbformat": 4,
  "nbformat_minor": 0,
  "metadata": {
    "colab": {
      "name": "catDogClassificatiom.ipynb",
      "provenance": [],
      "authorship_tag": "ABX9TyMtFMpZjibfxIMxoTwXZGgf",
      "include_colab_link": true
    },
    "kernelspec": {
      "name": "python3",
      "display_name": "Python 3"
    },
    "accelerator": "TPU"
  },
  "cells": [
    {
      "cell_type": "markdown",
      "metadata": {
        "id": "view-in-github",
        "colab_type": "text"
      },
      "source": [
        "<a href=\"https://colab.research.google.com/github/akamarkotwal/ContactApplication/blob/master/catDogClassificatiom.ipynb\" target=\"_parent\"><img src=\"https://colab.research.google.com/assets/colab-badge.svg\" alt=\"Open In Colab\"/></a>"
      ]
    },
    {
      "cell_type": "code",
      "metadata": {
        "id": "HeGuHdaJMMO_",
        "outputId": "8f4aefb4-8b3c-44a5-fd4d-ae7f7e9e0775",
        "colab": {
          "base_uri": "https://localhost:8080/",
          "height": 35
        }
      },
      "source": [
        "#get acess google drive data into google colab\n",
        "\n",
        "from google.colab import drive\n",
        "drive.mount('/content/drive')"
      ],
      "execution_count": 2,
      "outputs": [
        {
          "output_type": "stream",
          "text": [
            "Mounted at /content/drive\n"
          ],
          "name": "stdout"
        }
      ]
    },
    {
      "cell_type": "code",
      "metadata": {
        "id": "hW0QqyvzitgZ",
        "outputId": "ad9a3cbe-b1b4-44fa-ca67-a639bf57b7b5",
        "colab": {
          "base_uri": "https://localhost:8080/",
          "height": 35
        }
      },
      "source": [
        "from zipfile import ZipFile\n",
        "file_name = \"/content/drive/My Drive/DataSets/dataset.zip\"\n",
        "with ZipFile(file_name,'r') as zip:\n",
        "  zip.extractall()\n",
        "  print('finish')"
      ],
      "execution_count": 3,
      "outputs": [
        {
          "output_type": "stream",
          "text": [
            "finish\n"
          ],
          "name": "stdout"
        }
      ]
    },
    {
      "cell_type": "code",
      "metadata": {
        "id": "UrSY-QrBib2J"
      },
      "source": [
        "!pip install -q keras"
      ],
      "execution_count": 4,
      "outputs": []
    },
    {
      "cell_type": "code",
      "metadata": {
        "id": "NKkolAjxlOeu"
      },
      "source": [
        "# Importing the Keras libraries and packages\n",
        "from keras.models import Sequential\n",
        "from keras.layers import Conv2D\n",
        "from keras.layers import MaxPooling2D\n",
        "from keras.layers import Flatten\n",
        "from keras.layers import Dense\n",
        "\n",
        "\n",
        "CNN_Classifier=Sequential();\n",
        "\n",
        "CNN_Classifier.add(Conv2D(32,(3,3),input_shape=(64,64,3),activation='relu'))\n",
        "\n",
        "CNN_Classifier.add(MaxPooling2D(pool_size=(2,2)))\n",
        "\n",
        "# Step 1 - Convolution\n",
        "CNN_Classifier.add(Conv2D(16,(3,3),activation='relu'))\n",
        "\n",
        "# Step 2 - Pooling\n",
        "CNN_Classifier.add(MaxPooling2D(pool_size=(2,2)))\n",
        "\n",
        "# Step 3 - Flattening\n",
        "CNN_Classifier.add(Flatten())\n",
        "\n",
        "# Step 4 - Full connection\n",
        "\n",
        "CNN_Classifier.add(Dense(units=128, activation='relu'))\n",
        "CNN_Classifier.add(Dense(units=1, activation='sigmoid'))\n",
        "\n",
        "CNN_Classifier.compile(optimizer ='adam',loss='binary_crossentropy',metrics=['accuracy'])\n",
        "\n"
      ],
      "execution_count": 5,
      "outputs": []
    },
    {
      "cell_type": "code",
      "metadata": {
        "id": "ddau49Pulaux",
        "outputId": "7fe44ffc-6c84-4644-c7a6-fe96e9c50662",
        "colab": {
          "base_uri": "https://localhost:8080/",
          "height": 1000
        }
      },
      "source": [
        "from keras.preprocessing.image import ImageDataGenerator\n",
        "\n",
        "train_datagen = ImageDataGenerator(rescale = 1./255,\n",
        "                                   shear_range = 0.2,\n",
        "                                   zoom_range = 0.2,\n",
        "                                   horizontal_flip = True)\n",
        "\n",
        "test_datagen = ImageDataGenerator(rescale = 1./255)\n",
        "\n",
        "training_set = train_datagen.flow_from_directory('/content/dataset/training_set',\n",
        "                                                 target_size = (64, 64),\n",
        "                                                 batch_size = 32,\n",
        "                                                 class_mode = 'binary')\n",
        "\n",
        "test_set = test_datagen.flow_from_directory('/content/dataset/test_set',\n",
        "                                            target_size = (64, 64),\n",
        "                                            batch_size = 32,\n",
        "                                            class_mode = 'binary')\n",
        "\n",
        "CNN_Classifier.fit_generator(training_set,\n",
        "                      \n",
        "                         epochs = 100,\n",
        "                         validation_data = test_set,\n",
        "                         steps_per_epoch=len(training_set),\n",
        "                         validation_steps=len(test_set))"
      ],
      "execution_count": 6,
      "outputs": [
        {
          "output_type": "stream",
          "text": [
            "Found 8000 images belonging to 2 classes.\n",
            "Found 2000 images belonging to 2 classes.\n",
            "WARNING:tensorflow:From <ipython-input-6-290b7f501aa5>:25: Model.fit_generator (from tensorflow.python.keras.engine.training) is deprecated and will be removed in a future version.\n",
            "Instructions for updating:\n",
            "Please use Model.fit, which supports generators.\n",
            "Epoch 1/100\n",
            "250/250 [==============================] - 72s 288ms/step - loss: 0.6688 - accuracy: 0.5875 - val_loss: 0.6404 - val_accuracy: 0.6410\n",
            "Epoch 2/100\n",
            "250/250 [==============================] - 65s 260ms/step - loss: 0.6198 - accuracy: 0.6579 - val_loss: 0.6107 - val_accuracy: 0.6820\n",
            "Epoch 3/100\n",
            "250/250 [==============================] - 64s 256ms/step - loss: 0.5847 - accuracy: 0.6994 - val_loss: 0.5778 - val_accuracy: 0.7175\n",
            "Epoch 4/100\n",
            "250/250 [==============================] - 66s 262ms/step - loss: 0.5430 - accuracy: 0.7295 - val_loss: 0.5530 - val_accuracy: 0.7235\n",
            "Epoch 5/100\n",
            "250/250 [==============================] - 64s 256ms/step - loss: 0.5103 - accuracy: 0.7434 - val_loss: 0.6448 - val_accuracy: 0.6925\n",
            "Epoch 6/100\n",
            "250/250 [==============================] - 70s 281ms/step - loss: 0.4949 - accuracy: 0.7563 - val_loss: 0.5106 - val_accuracy: 0.7545\n",
            "Epoch 7/100\n",
            "250/250 [==============================] - 65s 259ms/step - loss: 0.4745 - accuracy: 0.7679 - val_loss: 0.5415 - val_accuracy: 0.7405\n",
            "Epoch 8/100\n",
            "250/250 [==============================] - 65s 261ms/step - loss: 0.4584 - accuracy: 0.7795 - val_loss: 0.4897 - val_accuracy: 0.7705\n",
            "Epoch 9/100\n",
            "250/250 [==============================] - 65s 261ms/step - loss: 0.4483 - accuracy: 0.7854 - val_loss: 0.4836 - val_accuracy: 0.7760\n",
            "Epoch 10/100\n",
            "250/250 [==============================] - 67s 269ms/step - loss: 0.4310 - accuracy: 0.7945 - val_loss: 0.4842 - val_accuracy: 0.7870\n",
            "Epoch 11/100\n",
            "250/250 [==============================] - 65s 260ms/step - loss: 0.4181 - accuracy: 0.8066 - val_loss: 0.4806 - val_accuracy: 0.7785\n",
            "Epoch 12/100\n",
            "250/250 [==============================] - 64s 255ms/step - loss: 0.4040 - accuracy: 0.8138 - val_loss: 0.4945 - val_accuracy: 0.7850\n",
            "Epoch 13/100\n",
            "250/250 [==============================] - 63s 253ms/step - loss: 0.3880 - accuracy: 0.8236 - val_loss: 0.5017 - val_accuracy: 0.7850\n",
            "Epoch 14/100\n",
            "250/250 [==============================] - 65s 259ms/step - loss: 0.3788 - accuracy: 0.8305 - val_loss: 0.4961 - val_accuracy: 0.7885\n",
            "Epoch 15/100\n",
            "250/250 [==============================] - 65s 261ms/step - loss: 0.3667 - accuracy: 0.8309 - val_loss: 0.5189 - val_accuracy: 0.7815\n",
            "Epoch 16/100\n",
            "250/250 [==============================] - 65s 259ms/step - loss: 0.3507 - accuracy: 0.8447 - val_loss: 0.5044 - val_accuracy: 0.7735\n",
            "Epoch 17/100\n",
            "250/250 [==============================] - 64s 257ms/step - loss: 0.3380 - accuracy: 0.8530 - val_loss: 0.4835 - val_accuracy: 0.7840\n",
            "Epoch 18/100\n",
            "250/250 [==============================] - 64s 257ms/step - loss: 0.3193 - accuracy: 0.8591 - val_loss: 0.5011 - val_accuracy: 0.7890\n",
            "Epoch 19/100\n",
            "250/250 [==============================] - 64s 257ms/step - loss: 0.3131 - accuracy: 0.8625 - val_loss: 0.5175 - val_accuracy: 0.7995\n",
            "Epoch 20/100\n",
            "250/250 [==============================] - 65s 261ms/step - loss: 0.3051 - accuracy: 0.8705 - val_loss: 0.5092 - val_accuracy: 0.7945\n",
            "Epoch 21/100\n",
            "250/250 [==============================] - 64s 255ms/step - loss: 0.2874 - accuracy: 0.8758 - val_loss: 0.5325 - val_accuracy: 0.7950\n",
            "Epoch 22/100\n",
            "250/250 [==============================] - 64s 255ms/step - loss: 0.2820 - accuracy: 0.8781 - val_loss: 0.5437 - val_accuracy: 0.7830\n",
            "Epoch 23/100\n",
            "250/250 [==============================] - 65s 258ms/step - loss: 0.2678 - accuracy: 0.8875 - val_loss: 0.5457 - val_accuracy: 0.7920\n",
            "Epoch 24/100\n",
            "250/250 [==============================] - 64s 257ms/step - loss: 0.2577 - accuracy: 0.8906 - val_loss: 0.5946 - val_accuracy: 0.7755\n",
            "Epoch 25/100\n",
            "250/250 [==============================] - 65s 260ms/step - loss: 0.2415 - accuracy: 0.8994 - val_loss: 0.5525 - val_accuracy: 0.7995\n",
            "Epoch 26/100\n",
            "250/250 [==============================] - 64s 258ms/step - loss: 0.2303 - accuracy: 0.9075 - val_loss: 0.6149 - val_accuracy: 0.7840\n",
            "Epoch 27/100\n",
            "250/250 [==============================] - 65s 258ms/step - loss: 0.2245 - accuracy: 0.9099 - val_loss: 0.6157 - val_accuracy: 0.7680\n",
            "Epoch 28/100\n",
            "250/250 [==============================] - 64s 256ms/step - loss: 0.2097 - accuracy: 0.9146 - val_loss: 0.6094 - val_accuracy: 0.7920\n",
            "Epoch 29/100\n",
            "250/250 [==============================] - 65s 259ms/step - loss: 0.2059 - accuracy: 0.9165 - val_loss: 0.6212 - val_accuracy: 0.7780\n",
            "Epoch 30/100\n",
            "250/250 [==============================] - 66s 264ms/step - loss: 0.1845 - accuracy: 0.9285 - val_loss: 0.6339 - val_accuracy: 0.7890\n",
            "Epoch 31/100\n",
            "250/250 [==============================] - 66s 263ms/step - loss: 0.1926 - accuracy: 0.9195 - val_loss: 0.7998 - val_accuracy: 0.7555\n",
            "Epoch 32/100\n",
            "250/250 [==============================] - 65s 262ms/step - loss: 0.1887 - accuracy: 0.9234 - val_loss: 0.6736 - val_accuracy: 0.7775\n",
            "Epoch 33/100\n",
            "250/250 [==============================] - 68s 272ms/step - loss: 0.1691 - accuracy: 0.9344 - val_loss: 0.7466 - val_accuracy: 0.7650\n",
            "Epoch 34/100\n",
            "250/250 [==============================] - 72s 287ms/step - loss: 0.1596 - accuracy: 0.9375 - val_loss: 0.7054 - val_accuracy: 0.7745\n",
            "Epoch 35/100\n",
            "250/250 [==============================] - 78s 314ms/step - loss: 0.1529 - accuracy: 0.9417 - val_loss: 0.7872 - val_accuracy: 0.7715\n",
            "Epoch 36/100\n",
            "250/250 [==============================] - 81s 324ms/step - loss: 0.1401 - accuracy: 0.9473 - val_loss: 0.7416 - val_accuracy: 0.7870\n",
            "Epoch 37/100\n",
            "250/250 [==============================] - 82s 329ms/step - loss: 0.1614 - accuracy: 0.9362 - val_loss: 0.7257 - val_accuracy: 0.7795\n",
            "Epoch 38/100\n",
            "250/250 [==============================] - 81s 326ms/step - loss: 0.1374 - accuracy: 0.9463 - val_loss: 0.8723 - val_accuracy: 0.7610\n",
            "Epoch 39/100\n",
            "250/250 [==============================] - 90s 358ms/step - loss: 0.1372 - accuracy: 0.9439 - val_loss: 0.8603 - val_accuracy: 0.7700\n",
            "Epoch 40/100\n",
            "250/250 [==============================] - 88s 353ms/step - loss: 0.1325 - accuracy: 0.9501 - val_loss: 0.7668 - val_accuracy: 0.7805\n",
            "Epoch 41/100\n",
            "250/250 [==============================] - 83s 331ms/step - loss: 0.1223 - accuracy: 0.9564 - val_loss: 0.8878 - val_accuracy: 0.7680\n",
            "Epoch 42/100\n",
            "250/250 [==============================] - 69s 274ms/step - loss: 0.1143 - accuracy: 0.9572 - val_loss: 0.8339 - val_accuracy: 0.7905\n",
            "Epoch 43/100\n",
            "250/250 [==============================] - 66s 266ms/step - loss: 0.1141 - accuracy: 0.9567 - val_loss: 0.8238 - val_accuracy: 0.7940\n",
            "Epoch 44/100\n",
            "250/250 [==============================] - 65s 261ms/step - loss: 0.1107 - accuracy: 0.9551 - val_loss: 0.9135 - val_accuracy: 0.7850\n",
            "Epoch 45/100\n",
            "250/250 [==============================] - 65s 259ms/step - loss: 0.1051 - accuracy: 0.9629 - val_loss: 0.8846 - val_accuracy: 0.7865\n",
            "Epoch 46/100\n",
            "250/250 [==============================] - 66s 263ms/step - loss: 0.1074 - accuracy: 0.9601 - val_loss: 0.8838 - val_accuracy: 0.7925\n",
            "Epoch 47/100\n",
            "250/250 [==============================] - 65s 260ms/step - loss: 0.1060 - accuracy: 0.9597 - val_loss: 0.8618 - val_accuracy: 0.7925\n",
            "Epoch 48/100\n",
            "250/250 [==============================] - 65s 260ms/step - loss: 0.0970 - accuracy: 0.9625 - val_loss: 0.9233 - val_accuracy: 0.7840\n",
            "Epoch 49/100\n",
            "250/250 [==============================] - 64s 258ms/step - loss: 0.1008 - accuracy: 0.9632 - val_loss: 0.9367 - val_accuracy: 0.7800\n",
            "Epoch 50/100\n",
            "250/250 [==============================] - 64s 257ms/step - loss: 0.0923 - accuracy: 0.9670 - val_loss: 0.9204 - val_accuracy: 0.7825\n",
            "Epoch 51/100\n",
            "250/250 [==============================] - 65s 258ms/step - loss: 0.0875 - accuracy: 0.9674 - val_loss: 0.9719 - val_accuracy: 0.7815\n",
            "Epoch 52/100\n",
            "250/250 [==============================] - 65s 259ms/step - loss: 0.0894 - accuracy: 0.9665 - val_loss: 0.9616 - val_accuracy: 0.7830\n",
            "Epoch 53/100\n",
            "250/250 [==============================] - 68s 274ms/step - loss: 0.0865 - accuracy: 0.9678 - val_loss: 1.1301 - val_accuracy: 0.7665\n",
            "Epoch 54/100\n",
            "250/250 [==============================] - 64s 258ms/step - loss: 0.0865 - accuracy: 0.9701 - val_loss: 1.0956 - val_accuracy: 0.7690\n",
            "Epoch 55/100\n",
            "250/250 [==============================] - 65s 259ms/step - loss: 0.0831 - accuracy: 0.9706 - val_loss: 1.0625 - val_accuracy: 0.7775\n",
            "Epoch 56/100\n",
            "250/250 [==============================] - 67s 267ms/step - loss: 0.0918 - accuracy: 0.9665 - val_loss: 1.0340 - val_accuracy: 0.7715\n",
            "Epoch 57/100\n",
            "250/250 [==============================] - 65s 260ms/step - loss: 0.0857 - accuracy: 0.9672 - val_loss: 0.9972 - val_accuracy: 0.7675\n",
            "Epoch 58/100\n",
            "250/250 [==============================] - 65s 258ms/step - loss: 0.0674 - accuracy: 0.9761 - val_loss: 1.1307 - val_accuracy: 0.7715\n",
            "Epoch 59/100\n",
            "250/250 [==============================] - 65s 259ms/step - loss: 0.0712 - accuracy: 0.9751 - val_loss: 1.1447 - val_accuracy: 0.7740\n",
            "Epoch 60/100\n",
            "250/250 [==============================] - 65s 260ms/step - loss: 0.0784 - accuracy: 0.9721 - val_loss: 1.0210 - val_accuracy: 0.7780\n",
            "Epoch 61/100\n",
            "250/250 [==============================] - 64s 257ms/step - loss: 0.0726 - accuracy: 0.9741 - val_loss: 1.0177 - val_accuracy: 0.7855\n",
            "Epoch 62/100\n",
            "250/250 [==============================] - 70s 280ms/step - loss: 0.0644 - accuracy: 0.9765 - val_loss: 1.0227 - val_accuracy: 0.7855\n",
            "Epoch 63/100\n",
            "250/250 [==============================] - 64s 257ms/step - loss: 0.0698 - accuracy: 0.9755 - val_loss: 1.1381 - val_accuracy: 0.7880\n",
            "Epoch 64/100\n",
            "250/250 [==============================] - 64s 256ms/step - loss: 0.0680 - accuracy: 0.9760 - val_loss: 1.1050 - val_accuracy: 0.7840\n",
            "Epoch 65/100\n",
            "250/250 [==============================] - 64s 256ms/step - loss: 0.0718 - accuracy: 0.9768 - val_loss: 1.0698 - val_accuracy: 0.7845\n",
            "Epoch 66/100\n",
            "250/250 [==============================] - 64s 254ms/step - loss: 0.0646 - accuracy: 0.9771 - val_loss: 1.1195 - val_accuracy: 0.7815\n",
            "Epoch 67/100\n",
            "250/250 [==============================] - 64s 256ms/step - loss: 0.0690 - accuracy: 0.9768 - val_loss: 1.0774 - val_accuracy: 0.7820\n",
            "Epoch 68/100\n",
            "250/250 [==============================] - 64s 255ms/step - loss: 0.0629 - accuracy: 0.9771 - val_loss: 1.0969 - val_accuracy: 0.7890\n",
            "Epoch 69/100\n",
            "250/250 [==============================] - 64s 256ms/step - loss: 0.0615 - accuracy: 0.9794 - val_loss: 1.1009 - val_accuracy: 0.7960\n",
            "Epoch 70/100\n",
            "250/250 [==============================] - 64s 256ms/step - loss: 0.0606 - accuracy: 0.9768 - val_loss: 1.2085 - val_accuracy: 0.7835\n",
            "Epoch 71/100\n",
            "250/250 [==============================] - 64s 255ms/step - loss: 0.0622 - accuracy: 0.9786 - val_loss: 1.1350 - val_accuracy: 0.7815\n",
            "Epoch 72/100\n",
            "250/250 [==============================] - 64s 255ms/step - loss: 0.0564 - accuracy: 0.9791 - val_loss: 1.1503 - val_accuracy: 0.7840\n",
            "Epoch 73/100\n",
            "250/250 [==============================] - 64s 257ms/step - loss: 0.0533 - accuracy: 0.9809 - val_loss: 1.1764 - val_accuracy: 0.7840\n",
            "Epoch 74/100\n",
            "250/250 [==============================] - 64s 255ms/step - loss: 0.0587 - accuracy: 0.9800 - val_loss: 1.3121 - val_accuracy: 0.7745\n",
            "Epoch 75/100\n",
            "250/250 [==============================] - 64s 255ms/step - loss: 0.0492 - accuracy: 0.9835 - val_loss: 1.2362 - val_accuracy: 0.7920\n",
            "Epoch 76/100\n",
            "250/250 [==============================] - 64s 255ms/step - loss: 0.0480 - accuracy: 0.9834 - val_loss: 1.2536 - val_accuracy: 0.7845\n",
            "Epoch 77/100\n",
            "250/250 [==============================] - 64s 255ms/step - loss: 0.0588 - accuracy: 0.9799 - val_loss: 1.1426 - val_accuracy: 0.7910\n",
            "Epoch 78/100\n",
            "250/250 [==============================] - 64s 254ms/step - loss: 0.0591 - accuracy: 0.9795 - val_loss: 1.2141 - val_accuracy: 0.7835\n",
            "Epoch 79/100\n",
            "250/250 [==============================] - 64s 256ms/step - loss: 0.0612 - accuracy: 0.9786 - val_loss: 1.1097 - val_accuracy: 0.7920\n",
            "Epoch 80/100\n",
            "250/250 [==============================] - 64s 257ms/step - loss: 0.0526 - accuracy: 0.9820 - val_loss: 1.3890 - val_accuracy: 0.7710\n",
            "Epoch 81/100\n",
            "250/250 [==============================] - 65s 261ms/step - loss: 0.0552 - accuracy: 0.9814 - val_loss: 1.2509 - val_accuracy: 0.7865\n",
            "Epoch 82/100\n",
            "250/250 [==============================] - 71s 285ms/step - loss: 0.0500 - accuracy: 0.9837 - val_loss: 1.1954 - val_accuracy: 0.7865\n",
            "Epoch 83/100\n",
            "250/250 [==============================] - 66s 264ms/step - loss: 0.0443 - accuracy: 0.9833 - val_loss: 1.3382 - val_accuracy: 0.7705\n",
            "Epoch 84/100\n",
            "250/250 [==============================] - 66s 263ms/step - loss: 0.0465 - accuracy: 0.9844 - val_loss: 1.2387 - val_accuracy: 0.7875\n",
            "Epoch 85/100\n",
            "250/250 [==============================] - 65s 260ms/step - loss: 0.0447 - accuracy: 0.9843 - val_loss: 1.3616 - val_accuracy: 0.7750\n",
            "Epoch 86/100\n",
            "250/250 [==============================] - 67s 267ms/step - loss: 0.0506 - accuracy: 0.9824 - val_loss: 1.3478 - val_accuracy: 0.7750\n",
            "Epoch 87/100\n",
            "250/250 [==============================] - 68s 270ms/step - loss: 0.0504 - accuracy: 0.9835 - val_loss: 1.4047 - val_accuracy: 0.7765\n",
            "Epoch 88/100\n",
            "250/250 [==============================] - 66s 263ms/step - loss: 0.0493 - accuracy: 0.9819 - val_loss: 1.2979 - val_accuracy: 0.7820\n",
            "Epoch 89/100\n",
            "250/250 [==============================] - 66s 263ms/step - loss: 0.0616 - accuracy: 0.9784 - val_loss: 1.3584 - val_accuracy: 0.7680\n",
            "Epoch 90/100\n",
            "250/250 [==============================] - 64s 257ms/step - loss: 0.0549 - accuracy: 0.9812 - val_loss: 1.1891 - val_accuracy: 0.7865\n",
            "Epoch 91/100\n",
            "250/250 [==============================] - 65s 259ms/step - loss: 0.0446 - accuracy: 0.9841 - val_loss: 1.5797 - val_accuracy: 0.7690\n",
            "Epoch 92/100\n",
            "250/250 [==============================] - 65s 261ms/step - loss: 0.0476 - accuracy: 0.9837 - val_loss: 1.3060 - val_accuracy: 0.7795\n",
            "Epoch 93/100\n",
            "250/250 [==============================] - 65s 261ms/step - loss: 0.0402 - accuracy: 0.9864 - val_loss: 1.3700 - val_accuracy: 0.7840\n",
            "Epoch 94/100\n",
            "250/250 [==============================] - 62s 249ms/step - loss: 0.0405 - accuracy: 0.9861 - val_loss: 1.4549 - val_accuracy: 0.7740\n",
            "Epoch 95/100\n",
            "250/250 [==============================] - 61s 245ms/step - loss: 0.0486 - accuracy: 0.9840 - val_loss: 1.2716 - val_accuracy: 0.7850\n",
            "Epoch 96/100\n",
            "250/250 [==============================] - 62s 246ms/step - loss: 0.0481 - accuracy: 0.9841 - val_loss: 1.4446 - val_accuracy: 0.7625\n",
            "Epoch 97/100\n",
            "250/250 [==============================] - 62s 247ms/step - loss: 0.0502 - accuracy: 0.9820 - val_loss: 1.3861 - val_accuracy: 0.7810\n",
            "Epoch 98/100\n",
            "250/250 [==============================] - 62s 248ms/step - loss: 0.0572 - accuracy: 0.9804 - val_loss: 1.3088 - val_accuracy: 0.7895\n",
            "Epoch 99/100\n",
            "250/250 [==============================] - 62s 247ms/step - loss: 0.0476 - accuracy: 0.9837 - val_loss: 1.4359 - val_accuracy: 0.7840\n",
            "Epoch 100/100\n",
            "250/250 [==============================] - 61s 246ms/step - loss: 0.0494 - accuracy: 0.9835 - val_loss: 1.3060 - val_accuracy: 0.7870\n"
          ],
          "name": "stdout"
        },
        {
          "output_type": "execute_result",
          "data": {
            "text/plain": [
              "<tensorflow.python.keras.callbacks.History at 0x7ffa01acbc18>"
            ]
          },
          "metadata": {
            "tags": []
          },
          "execution_count": 6
        }
      ]
    },
    {
      "cell_type": "code",
      "metadata": {
        "id": "U20Gx4dPsDfd",
        "outputId": "5403115c-4cb9-4a5a-92f7-55cbcc512f98",
        "colab": {
          "base_uri": "https://localhost:8080/",
          "height": 34
        }
      },
      "source": [
        "import numpy as np\n",
        "from keras.preprocessing import image\n",
        "\n",
        "test_img=image.load_img('/content/dataset/single_prediction/Close-up_of_a_cat.jfif',target_size=(64,64))\n",
        "test_img=image.img_to_array(test_img)\n",
        "test_img=np.expand_dims(test_img,axis=0)\n",
        "result=CNN_Classifier.predict(test_img)\n",
        "training_set.class_indices\n",
        "if(result[0][0])==1:\n",
        "  predi='dog'\n",
        "  print(predi)\n",
        "else:\n",
        "  predi='cat'\n",
        "  print(predi)"
      ],
      "execution_count": 28,
      "outputs": [
        {
          "output_type": "stream",
          "text": [
            "dog\n"
          ],
          "name": "stdout"
        }
      ]
    },
    {
      "cell_type": "code",
      "metadata": {
        "id": "-QoJfvDOKtyx"
      },
      "source": [
        ""
      ],
      "execution_count": null,
      "outputs": []
    }
  ]
}